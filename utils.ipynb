{
 "cells": [
  {
   "cell_type": "markdown",
   "metadata": {},
   "source": [
    "# 工具\n",
    "## 使白底地图背景透明化"
   ]
  },
  {
   "cell_type": "code",
   "execution_count": null,
   "metadata": {},
   "outputs": [],
   "source": [
    "from utils import transparent\n",
    "\n",
    "transparent('./assets/image/china_map_.png', './assets/image/china_map.png')\n",
    "transparent('./assets/image/world_map_.png', './assets/image/world_map.png')"
   ]
  },
  {
   "cell_type": "markdown",
   "metadata": {},
   "source": [
    "# 获取豆瓣书影信息"
   ]
  },
  {
   "cell_type": "code",
   "execution_count": null,
   "metadata": {},
   "outputs": [],
   "source": [
    "import feedparser\n",
    "import pprint\n",
    "\n",
    "\n",
    "rss_movietracker = feedparser.parse(\"https://www.douban.com/feed/people/222123847/interests\")\n",
    "# pprint.pprint(rss_movietracker)  # 打印\n",
    "entries = rss_movietracker[\"entries\"]  # 获取所有条目\n",
    "entries[0].keys()  # 查看条目的键\n",
    "entries[0][\"summary\"]  # 查看条目的摘要"
   ]
  },
  {
   "cell_type": "markdown",
   "metadata": {},
   "source": [
    "## 更新书影列表*"
   ]
  },
  {
   "cell_type": "code",
   "execution_count": 1,
   "metadata": {},
   "outputs": [
    {
     "name": "stdout",
     "output_type": "stream",
     "text": [
      "海报：\n",
      "https://img1.doubanio.com/view/photo/s_ratio_poster/public/p2878984749.jpg\n",
      "https://img2.doubanio.com/view/subject/s/public/s33778163.jpg\n",
      "https://img1.doubanio.com/view/subject/s/public/s11313518.jpg\n",
      "https://img1.doubanio.com/view/subject/s/public/s29214279.jpg\n",
      "https://img9.doubanio.com/view/subject/s/public/s5759425.jpg\n",
      "https://img9.doubanio.com/view/photo/s_ratio_poster/public/p2508894195.jpg\n",
      "https://img9.doubanio.com/view/photo/s_ratio_poster/public/p2881176356.jpg\n",
      "https://img1.doubanio.com/view/photo/s_ratio_poster/public/p2619307308.jpg\n",
      "https://img9.doubanio.com/view/photo/s_ratio_poster/public/p2629357934.jpg\n",
      "https://img2.doubanio.com/view/subject/s/public/s33497651.jpg\n"
     ]
    }
   ],
   "source": [
    "from utils import update_table\n",
    "\n",
    "update_table()"
   ]
  },
  {
   "cell_type": "code",
   "execution_count": null,
   "metadata": {},
   "outputs": [],
   "source": []
  }
 ],
 "metadata": {
  "kernelspec": {
   "display_name": "Python 3.8.3 ('base')",
   "language": "python",
   "name": "python3"
  },
  "language_info": {
   "codemirror_mode": {
    "name": "ipython",
    "version": 3
   },
   "file_extension": ".py",
   "mimetype": "text/x-python",
   "name": "python",
   "nbconvert_exporter": "python",
   "pygments_lexer": "ipython3",
   "version": "3.8.3"
  },
  "orig_nbformat": 4,
  "vscode": {
   "interpreter": {
    "hash": "73876ac2467fae8ae670f78317fcd5f13c476e867d9d45e38ee665298e509d19"
   }
  }
 },
 "nbformat": 4,
 "nbformat_minor": 2
}
