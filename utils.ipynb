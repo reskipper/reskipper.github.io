{
 "cells": [
  {
   "cell_type": "markdown",
   "metadata": {},
   "source": [
    "# 工具\n",
    "## 使白底地图背景透明化"
   ]
  },
  {
   "cell_type": "code",
   "execution_count": null,
   "metadata": {},
   "outputs": [],
   "source": [
    "from utils import transparent\n",
    "\n",
    "transparent('./assets/image/china_map_.png', './assets/image/china_map.png')\n",
    "transparent('./assets/image/world_map_.png', './assets/image/world_map.png')"
   ]
  },
  {
   "cell_type": "markdown",
   "metadata": {},
   "source": [
    "# 获取豆瓣书影信息"
   ]
  },
  {
   "cell_type": "code",
   "execution_count": null,
   "metadata": {},
   "outputs": [],
   "source": [
    "import feedparser\n",
    "import pprint\n",
    "\n",
    "\n",
    "rss_movietracker = feedparser.parse(\"https://www.douban.com/feed/people/222123847/interests\")\n",
    "# pprint.pprint(rss_movietracker)  # 打印\n",
    "entries = rss_movietracker[\"entries\"]  # 获取所有条目\n",
    "entries[0].keys()  # 查看条目的键\n",
    "entries[0][\"summary\"]  # 查看条目的摘要"
   ]
  },
  {
   "cell_type": "markdown",
   "metadata": {},
   "source": [
    "## 更新书影列表*"
   ]
  },
  {
   "cell_type": "code",
   "execution_count": 2,
   "metadata": {},
   "outputs": [
    {
     "name": "stdout",
     "output_type": "stream",
     "text": [
      "海报：\n",
      "https://img1.doubanio.com/view/photo/s_ratio_poster/public/p2885130077.jpg\n",
      "https://img2.doubanio.com/view/photo/s_ratio_poster/public/p1769720671.jpg\n",
      "https://img9.doubanio.com/view/photo/s_ratio_poster/public/p1275162115.jpg\n",
      "https://img2.doubanio.com/view/photo/s_ratio_poster/public/p2883894763.jpg\n",
      "https://img2.doubanio.com/view/photo/s_ratio_poster/public/p998913501.jpg\n",
      "https://img1.doubanio.com/view/photo/s_ratio_poster/public/p2887517387.jpg\n",
      "https://img2.doubanio.com/view/photo/s_ratio_poster/public/p2154845412.jpg\n",
      "https://img1.doubanio.com/view/photo/s_ratio_poster/public/p2395733377.jpg\n",
      "https://img2.doubanio.com/view/photo/s_ratio_poster/public/p2885696321.jpg\n",
      "https://img2.doubanio.com/view/photo/s_ratio_poster/public/p2620083313.jpg\n"
     ]
    }
   ],
   "source": [
    "from utils import update_table\n",
    "\n",
    "update_table()"
   ]
  },
  {
   "cell_type": "code",
   "execution_count": 3,
   "metadata": {},
   "outputs": [
    {
     "name": "stdout",
     "output_type": "stream",
     "text": [
      "海报：\n",
      "https://img1.doubanio.com/view/photo/s_ratio_poster/public/p2885130077.jpg\n",
      "https://img2.doubanio.com/view/photo/s_ratio_poster/public/p1769720671.jpg\n",
      "https://img9.doubanio.com/view/photo/s_ratio_poster/public/p1275162115.jpg\n",
      "https://img2.doubanio.com/view/photo/s_ratio_poster/public/p2883894763.jpg\n",
      "https://img2.doubanio.com/view/photo/s_ratio_poster/public/p998913501.jpg\n",
      "https://img1.doubanio.com/view/photo/s_ratio_poster/public/p2887517387.jpg\n",
      "https://img2.doubanio.com/view/photo/s_ratio_poster/public/p2154845412.jpg\n",
      "https://img1.doubanio.com/view/photo/s_ratio_poster/public/p2395733377.jpg\n",
      "https://img2.doubanio.com/view/photo/s_ratio_poster/public/p2885696321.jpg\n",
      "https://img2.doubanio.com/view/photo/s_ratio_poster/public/p2620083313.jpg\n"
     ]
    }
   ],
   "source": [
    "from PIL import Image\n",
    "import feedparser\n",
    "import requests\n",
    "\n",
    "def transparent(input, output):\n",
    "    \"\"\"\n",
    "    将图片中RGB为0的点变透明\n",
    "\n",
    "    :param input: 输入图片 (.png)\n",
    "    :param output: 输出图片 (.png)\n",
    "    \"\"\"\n",
    "    img = Image.open(input)\n",
    "    img = img.convert('RGBA')\n",
    "    datas = img.getdata()\n",
    "    newData = []\n",
    "    for item in datas:\n",
    "        if item[0] == 255 and item[1] == 255 and item[2] == 255:  # 输入rgb 0 (纯黑)\n",
    "            newData.append((255, 255, 255, 0))  # 输出rgb 255\n",
    "        else:\n",
    "            newData.append(item)\n",
    "    img.putdata(newData)\n",
    "    img.save(output, \"PNG\")\n",
    "\n",
    "\n",
    "def count(input):\n",
    "    \"\"\"\n",
    "    查看图片中RGB为0的点的个数\n",
    "\n",
    "    :param input: 输入图片 (.png)\n",
    "    \"\"\"\n",
    "    img = Image.open(input)\n",
    "    img = img.convert('RGBA')\n",
    "    datas = img.getdata()\n",
    "    count = 0\n",
    "    for item in datas:\n",
    "        if item[0] == 0 and item[1] == 0 and item[2] == 0:\n",
    "            count += 1\n",
    "    print(count)\n",
    "\n",
    "\n",
    "def delete_between_str(str, start, end):\n",
    "    \"\"\"\n",
    "    删除str中两字符串之间的内容\n",
    "\n",
    "    :param str: 输入字符串\n",
    "    :param start: 开始字符串\n",
    "    :param end: 结束字符串\n",
    "    :return: 删除后的字符串\n",
    "    \"\"\"\n",
    "    while True:\n",
    "        start_index = str.find(start)\n",
    "        end_index = str.find(end)\n",
    "        if start_index == -1 or end_index == -1:\n",
    "            break\n",
    "        str = str.replace(str[start_index:end_index + len(end)], \"\")\n",
    "    return str\n",
    "\n",
    "def download_posters(url, path_id):\n",
    "    \"\"\"\n",
    "    下载url jpg图片\n",
    "\n",
    "    :param url: 图片url\n",
    "    :param path: 图片序号\n",
    "    \"\"\"\n",
    "    r = requests.get(url)\n",
    "    with open(\"./assets/image/posters/\" + str(path_id) + \".jpg\", \"wb\") as f:\n",
    "        f.write(r.content)\n",
    "\n",
    "rss_movietracker = feedparser.parse(\"https://www.douban.com/feed/people/222123847/interests\")\n",
    "entries = rss_movietracker[\"entries\"]  # 获取所有条目\n",
    "# 拼接html表格\n",
    "html = \"\"\"\n",
    "<table>\n",
    "    <tr>\n",
    "        <th>名称</th>\n",
    "        <th>海报</th>\n",
    "        <th>时间</th>\n",
    "    </tr>\n",
    "\"\"\"\n",
    "for entry in entries:\n",
    "    html += f\"\"\"\n",
    "    <tr>\n",
    "        <td>{entry[\"title\"]}</td>\n",
    "        <td>{entry[\"summary\"]}</td>\n",
    "        <td>{entry[\"published\"]}</td>\n",
    "    </tr>\n",
    "\"\"\"\n",
    "html += \"</table>\"\n",
    "html = html.replace(\"\\n\", \"\")  # 去除换行符\n",
    "html = delete_between_str(html, \"<p>\", \"</p>\")  # 删除str中的<p></p>\n",
    "while True:  # 删除str中的多余空格\n",
    "    if \"  \" in html:\n",
    "        html = html.replace(\"  \", \" \")\n",
    "    else:\n",
    "        break    \n",
    "# 将链接图片替换为本地图片\n",
    "print('海报：')\n",
    "while True:\n",
    "    start_index = html.find(\"src=\\\"https:\")\n",
    "    end_index = html.find(\"/></a>\", start_index)\n",
    "    if start_index == -1 or end_index == -1:\n",
    "        break\n",
    "    src = html[start_index + 5:end_index - 2]\n",
    "    print(src)\n",
    "    download_posters(src, start_index)\n",
    "    html = html.replace(src, \"./assets/image/posters/\" + str(start_index) + \".jpg\")\n",
    "# 表格居中\n",
    "html = html.replace(\"<table>\", \"<table style=\\\"text-align:center;\\\" align=\\\"center\\\">\")\n",
    "html = html.replace(\"<td> </td>\", \"\")"
   ]
  }
 ],
 "metadata": {
  "kernelspec": {
   "display_name": "base",
   "language": "python",
   "name": "python3"
  },
  "language_info": {
   "codemirror_mode": {
    "name": "ipython",
    "version": 3
   },
   "file_extension": ".py",
   "mimetype": "text/x-python",
   "name": "python",
   "nbconvert_exporter": "python",
   "pygments_lexer": "ipython3",
   "version": "3.8.3"
  },
  "orig_nbformat": 4,
  "vscode": {
   "interpreter": {
    "hash": "73876ac2467fae8ae670f78317fcd5f13c476e867d9d45e38ee665298e509d19"
   }
  }
 },
 "nbformat": 4,
 "nbformat_minor": 2
}
